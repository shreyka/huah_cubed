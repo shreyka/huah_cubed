{
 "cells": [
  {
   "cell_type": "markdown",
   "metadata": {},
   "source": [
    "# this module will implement a 3D renderer for cubes\n",
    "# ideally, code this so that it is not that hard to make it in verilog"
   ]
  },
  {
   "cell_type": "code",
   "execution_count": 890,
   "metadata": {},
   "outputs": [],
   "source": [
    "from IPython.display import display \n",
    "from PIL import Image"
   ]
  },
  {
   "cell_type": "code",
   "execution_count": 891,
   "metadata": {},
   "outputs": [],
   "source": [
    "# definitions\n",
    "\n",
    "u = (1, 0, 0)\n",
    "v = (0, 1, 0)\n",
    "e = (1800, 1800, 0)\n",
    "w = 1024\n",
    "h = 768\n",
    "\n",
    "blocks_pos = [(1800, 1800, 300)]\n",
    "blocks_mat = [(1, 0, 0, 0.7)] # ranges from 0 to 1, diffuse RGB and reflection\n",
    "lights_pos = [(1800, 1800, 100)]\n",
    "lights_intense = [(1, 1, 1)] # colored lights"
   ]
  },
  {
   "cell_type": "code",
   "execution_count": 892,
   "metadata": {},
   "outputs": [],
   "source": [
    "# import image\n",
    "img = Image.new(\"RGB\", (w, h))"
   ]
  },
  {
   "cell_type": "code",
   "execution_count": 893,
   "metadata": {},
   "outputs": [],
   "source": [
    "# display image\n",
    "def display_image():\n",
    "    display(img)"
   ]
  },
  {
   "cell_type": "code",
   "execution_count": 894,
   "metadata": {},
   "outputs": [],
   "source": [
    "def zero_image():\n",
    "    for i in range(img.size[0]):\n",
    "        for j in range(img.size[1]):\n",
    "            img.putpixel((i, j), (0, 0, 0))"
   ]
  },
  {
   "cell_type": "code",
   "execution_count": 895,
   "metadata": {},
   "outputs": [],
   "source": [
    "# helper functions\n",
    "def scale(v, c):\n",
    "    return (v[0] * c, v[1] * c, v[2] * c)\n",
    "def size(v):\n",
    "    return dot(v, v)**0.5\n",
    "def add(v1, v2):\n",
    "    return (v1[0] + v2[0], v1[1] + v2[1], v1[2] + v2[2])\n",
    "def sub(v1, v2):\n",
    "    return (v1[0] - v2[0], v1[1] - v2[1], v1[2] - v2[2])\n",
    "def dot(v1, v2):\n",
    "    return (v1[0] * v2[0]) + (v1[1] * v2[1]) + (v1[2] * v2[2])"
   ]
  },
  {
   "cell_type": "code",
   "execution_count": 896,
   "metadata": {},
   "outputs": [],
   "source": [
    "def eye_to_pixel(x, y):\n",
    "    # TODO: future, need to incorporate rotation into this algorithm\n",
    "    # right now, it will follow the player, but it will never rotate\n",
    "    proj_plane_top_left = (e[0] - w/2, e[1] - h/2, 200)\n",
    "    proj_plane_point = add(add(scale(u, x), scale(v, y)), proj_plane_top_left)\n",
    "    dir = sub(proj_plane_point, e)\n",
    "    dir = scale(dir, 1/size(dir))\n",
    "    return dir\n",
    "\n",
    "# coords = [(0, 0), (w/2, h/2), (w, h)]\n",
    "# for x, y in coords:\n",
    "#     print(f\"({x}, {y}) -> {eye_to_pixel(x, y)}\")"
   ]
  },
  {
   "cell_type": "code",
   "execution_count": 897,
   "metadata": {},
   "outputs": [
    {
     "name": "stdout",
     "output_type": "stream",
     "text": [
      "True\n",
      "t = [199.0]\n"
     ]
    }
   ],
   "source": [
    "def does_ray_block_intersect(ray, block_pos, radius, block_mat, t):\n",
    "    dist = sub(e, block_pos)\n",
    "    a = dot(ray, ray)\n",
    "    b = 2 * dot(ray, dist)\n",
    "    c = dot(dist, dist) - (radius * radius)\n",
    "    discr = (b * b) - (4 * a * c)\n",
    "\n",
    "    if discr >= 0:\n",
    "        sqrtdiscr = discr**0.5\n",
    "\n",
    "        if b >= 0:\n",
    "            sol1 = (-b - sqrtdiscr) / (2 * a)\n",
    "            sol2 = (2 * c) / (-b - sqrtdiscr)\n",
    "            new_t = min(sol1, sol2)\n",
    "        else:\n",
    "            sol1 = (2 * c) / (-b + sqrtdiscr)\n",
    "            sol2 = (-b + sqrtdiscr) / (2 * a)\n",
    "            new_t = min(sol1, sol2)\n",
    "        \n",
    "        if new_t > 0 and new_t < t[0]:\n",
    "            # t represents the distance from the eye to the sphere\n",
    "            t[0] = new_t\n",
    "            return True\n",
    "    \n",
    "    return False\n",
    "\n",
    "t = [10000000]\n",
    "print(does_ray_block_intersect(eye_to_pixel(w/2, h/2), (1800, 1800, 200), 1, (1, 1, 1, 1), t))\n",
    "print(f\"t = {t}\")"
   ]
  },
  {
   "cell_type": "code",
   "execution_count": 898,
   "metadata": {},
   "outputs": [],
   "source": [
    "def get_pixel_color(block_pos, block_mat, ray, t):\n",
    "    newOrigin = add(e, scale(ray, t[0]))\n",
    "    normal = sub(newOrigin, block_pos)\n",
    "    normal_magnitude = size(normal)\n",
    "\n",
    "    if normal == 0:\n",
    "        return (0, 0, 0)\n",
    "    \n",
    "    normal = scale(normal, 1/normal_magnitude)\n",
    "\n",
    "    r = 0.0\n",
    "    g = 0.0\n",
    "    b = 0.0\n",
    "    for i in range(len(lights_pos)):\n",
    "        light_pos = lights_pos[i]\n",
    "        light_intense = lights_intense[i]\n",
    "        dist = sub(light_pos, newOrigin)\n",
    "\n",
    "        if dot(normal, dist) <= 0:\n",
    "            continue\n",
    "        \n",
    "        rayDir = scale(dist, 1/size(dist))\n",
    "\n",
    "        lambert = dot(rayDir, normal)\n",
    "\n",
    "        r += (light_intense[0] * block_mat[0] * lambert)\n",
    "        g += (light_intense[1] * block_mat[1] * lambert)\n",
    "        b += (light_intense[2] * block_mat[2] * lambert)\n",
    "\n",
    "    return r, g, b\n",
    "\n",
    "def set_pixel_color(block_pos, block_mat, ray, x, y, t):\n",
    "    r, g, b = get_pixel_color(block_pos, block_mat, ray, t)\n",
    "    r = int(min(r, 1) * 255.0)\n",
    "    g = int(min(g, 1) * 255.0)\n",
    "    b = int(min(b, 1) * 255.0)\n",
    "    # print(f\"SET PIXEL {r}, {g}, {b}\")\n",
    "    img.putpixel((x, y), (r, g, b))\n",
    "\n",
    "# print(get_pixel_color((1800, 1800, 200), (1, 0, 0, 0.5), eye_to_pixel(w/2, h/2), t))"
   ]
  },
  {
   "cell_type": "code",
   "execution_count": 899,
   "metadata": {},
   "outputs": [],
   "source": [
    "def render_frame():\n",
    "    for y in range(h):\n",
    "        for x in range(w):\n",
    "            ray = eye_to_pixel(x, y)\n",
    "            t = [1000000000]\n",
    "\n",
    "            block = -1\n",
    "\n",
    "            for i in range(len(blocks_pos)):\n",
    "                if does_ray_block_intersect(ray, blocks_pos[i], 90, blocks_mat[i], t):\n",
    "                    block = i\n",
    "                    break\n",
    "            \n",
    "            if block == -1:\n",
    "                img.putpixel((x, y), (0, 0, 0))\n",
    "                continue\n",
    "\n",
    "            set_pixel_color(blocks_pos[block], blocks_mat[block], ray, x, y, t)"
   ]
  },
  {
   "cell_type": "code",
   "execution_count": 900,
   "metadata": {},
   "outputs": [],
   "source": [
    "# function just needed for calculating uv\n",
    "def cross(v1, v2):\n",
    "    return (\n",
    "        (v1[1] * v2[2]) - (v1[2] * v2[1]),\n",
    "        (v1[2] * v2[0]) - (v1[0] * v2[2]),\n",
    "        (v1[0] * v2[1]) - (v1[1] * v2[0])\n",
    "    )"
   ]
  },
  {
   "cell_type": "code",
   "execution_count": 901,
   "metadata": {},
   "outputs": [],
   "source": [
    "# view_direction = (0, 0, 1)\n",
    "# up = (0, -1, 0)\n",
    "# wv = scale(view_direction, 1/size(view_direction))\n",
    "# u = scale(cross(up, wv), 1/size(cross(up, wv)))\n",
    "# v = cross(wv,u)\n",
    "# print(f\"u={u}, v={v}\")"
   ]
  },
  {
   "cell_type": "code",
   "execution_count": 902,
   "metadata": {},
   "outputs": [
    {
     "data": {
      "image/png": "[encoded data removed]",
      "text/plain": [
       "<PIL.Image.Image image mode=RGB size=1024x768 at 0x7F91C863A490>"
      ]
     },
     "metadata": {},
     "output_type": "display_data"
    }
   ],
   "source": [
    "zero_image()\n",
    "render_frame()\n",
    "display_image()"
   ]
  }
 ],
 "metadata": {
  "kernelspec": {
   "display_name": "Python 3.8.10 64-bit",
   "language": "python",
   "name": "python3"
  },
  "language_info": {
   "codemirror_mode": {
    "name": "ipython",
    "version": 3
   },
   "file_extension": ".py",
   "mimetype": "text/x-python",
   "name": "python",
   "nbconvert_exporter": "python",
   "pygments_lexer": "ipython3",
   "version": "3.8.10"
  },
  "orig_nbformat": 4,
  "vscode": {
   "interpreter": {
    "hash": "df0893f56f349688326838aaeea0de204df53a132722cbd565e54b24a8fec5f6"
   }
  }
 },
 "nbformat": 4,
 "nbformat_minor": 2
}
