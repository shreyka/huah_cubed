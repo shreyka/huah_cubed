{
 "cells": [
  {
   "cell_type": "markdown",
   "metadata": {},
   "source": [
    "# this module will implement a 3D renderer for cubes\n",
    "# ideally, code this so that it is not that hard to make it in verilog"
   ]
  },
  {
   "cell_type": "code",
   "execution_count": 291,
   "metadata": {},
   "outputs": [],
   "source": [
    "from IPython.display import display \n",
    "from PIL import Image"
   ]
  },
  {
   "cell_type": "code",
   "execution_count": 292,
   "metadata": {},
   "outputs": [],
   "source": [
    "# definitions\n",
    "# these are defined beforehand\n",
    "# the e will be dynamic in the future (it is the head position)\n",
    "# note that vectors must be in float format\n",
    "\n",
    "float_1 = float(1) # 32'b00111111100000000000000000000000\n",
    "\n",
    "u = (float_1, 0, 0)\n",
    "v = (0, float_1, 0)\n",
    "e = (1800.0001, 1800.001, -300) # put it farther away from the plane to adjust for distortion, adjust not to be exact so artifacts don't appear\n",
    "w = 1024\n",
    "h = 768\n",
    "\n",
    "w_half = float(w/2)\n",
    "h_half = float(h/2)\n",
    "\n",
    "# w = int(1024/4)\n",
    "# h = int(768/4)\n",
    "\n",
    "dx = w\n",
    "dy = h\n",
    "\n",
    "# these are sorted by distance\n",
    "blocks_pos = [(1800, 1800, 700), (1800 + dx, 1800, 800), (1800 - dx, 1800 - dy, 800), (1800 - dx, 1800 + dy, 900), (1800 + dx, 1800 + dy, 901)]\n",
    "blocks_mat = [(1, 0, 0, 0.7), (0, 0, 1, 0.7), (1, 0.5, 0.5, 0.7), (1, 0.5, 0.5, 0.2), (0.5, 0.5, 0.5, 0.2)] # ranges from 0 to 1, diffuse RGB and reflection\n",
    "lights_pos = [(1400, 1800, 100), (1800, 1800, 100), (2200, 1800, 100)]\n",
    "lights_intense = [(0.25, 0.5, 0.25), (0.75, 0.5, 0.75), (0.25, 0.5, 0.25)] # colored lights"
   ]
  },
  {
   "cell_type": "code",
   "execution_count": 293,
   "metadata": {},
   "outputs": [],
   "source": [
    "# import image\n",
    "img = Image.new(\"RGB\", (w, h))"
   ]
  },
  {
   "cell_type": "code",
   "execution_count": 294,
   "metadata": {},
   "outputs": [],
   "source": [
    "# display image\n",
    "def display_image():\n",
    "    display(img)"
   ]
  },
  {
   "cell_type": "code",
   "execution_count": 295,
   "metadata": {},
   "outputs": [],
   "source": [
    "# def zero_image():\n",
    "#     for i in range(img.size[0]):\n",
    "#         for j in range(img.size[1]):\n",
    "#             img.putpixel((i, j), (0, 0, 0))"
   ]
  },
  {
   "cell_type": "code",
   "execution_count": 296,
   "metadata": {},
   "outputs": [],
   "source": [
    "# helper functions\n",
    "\n",
    "\"\"\"\n",
    "\n",
    "Float functions needed:\n",
    "\n",
    "add, subtract, multiply, divide\n",
    "fixed-to-float, float-to-fixed\n",
    "less than, less than or equal, equal\n",
    "reciprocal_square_root\n",
    "\n",
    "\"\"\"\n",
    "\n",
    "# internal float helper functions\n",
    "def reciprocal_square_root(v):\n",
    "    v_dot = dot(v, v)\n",
    "    return 1 / v_dot**0.5\n",
    "\n",
    "# implement these via modules; specify a valid bit output\n",
    "def scale(v, c): # 8 cycles for multiplication\n",
    "    return (v[0] * c, v[1] * c, v[2] * c)\n",
    "def add(v1, v2): # 11 cycles\n",
    "    return (v1[0] + v2[0], v1[1] + v2[1], v1[2] + v2[2])\n",
    "def sub(v1, v2): # 11 cycles\n",
    "    return (v1[0] - v2[0], v1[1] - v2[1], v1[2] - v2[2])\n",
    "def dot(v1, v2): # 8 cycles\n",
    "    return (v1[0] * v2[0]) + (v1[1] * v2[1]) + (v1[2] * v2[2])\n",
    "def normalize(v): # 32 cycles\n",
    "    re_sqrt = reciprocal_square_root(v)\n",
    "    n = scale(v, re_sqrt)\n",
    "    return n\n",
    "def less_than(a, b): # 2 cycles\n",
    "    return a < b\n",
    "def less_than_equal(a, b): # 2 cycles\n",
    "    return a <= b\n",
    "def equals(a, b): # 2 cycles\n",
    "    return a == b"
   ]
  },
  {
   "cell_type": "code",
   "execution_count": 297,
   "metadata": {},
   "outputs": [],
   "source": [
    "def eye_to_pixel(x, y):\n",
    "    # TODO: future, need to incorporate rotation into this algorithm\n",
    "    # right now, it will follow the player, but it will never rotate\n",
    "    x_float = float(x)\n",
    "    y_float = float(y)\n",
    "    ex_minus_w = float(e[0] - w_half)\n",
    "    ey_minus_w = float(e[1] - h_half)\n",
    "    float_100 = float(100)\n",
    "    proj_plane_top_left = (ex_minus_w, ey_minus_w, float_100) # ints\n",
    "    scale_u = scale(u, x_float)\n",
    "    scale_v = scale(v, y_float)\n",
    "    sum_scales = add(scale_u, scale_v)\n",
    "    proj_plane_point = add(sum_scales, proj_plane_top_left)\n",
    "    dir = sub(proj_plane_point, e)\n",
    "    dir = normalize(dir)\n",
    "    return dir"
   ]
  },
  {
   "cell_type": "code",
   "execution_count": 298,
   "metadata": {},
   "outputs": [],
   "source": [
    "def does_ray_block_intersect(ray, block_pos, t):    \n",
    "    BLOCK_SIZE = float(100)\n",
    "    block_min = sub(block_pos, (BLOCK_SIZE, BLOCK_SIZE, BLOCK_SIZE))\n",
    "    block_max = add(block_pos, (BLOCK_SIZE, BLOCK_SIZE, BLOCK_SIZE))\n",
    "\n",
    "    tmin = float(-10000000)\n",
    "    tmax = float(10000000)\n",
    "\n",
    "    for i in range(3):\n",
    "        if not equals(ray[i], 0):\n",
    "            min_e = block_min[i] - e[i]\n",
    "            max_e = block_max[i] - e[i]\n",
    "            tx1 = min_e / ray[i]\n",
    "            tx2 = max_e / ray[i]\n",
    "\n",
    "            min_tx12_lt = less_than(tx1, tx2) # tx1 < tx2 ? tx1 : tx2\n",
    "            max_tx12_lt = less_than(tx2, tx1) # tx2 < tx1 ? tx1 : tx2\n",
    "\n",
    "            tmin = max(tmin, tx1 if min_tx12_lt else tx2)\n",
    "            tmax = min(tmax, tx1 if max_tx12_lt else tx2)\n",
    "    \n",
    "    # tmin <= tmax\n",
    "    if less_than_equal(tmin, tmax):\n",
    "        t[0] = tmin\n",
    "        return True\n",
    "    else:\n",
    "        return False"
   ]
  },
  {
   "cell_type": "code",
   "execution_count": 299,
   "metadata": {},
   "outputs": [],
   "source": [
    "def get_pixel_color(block_pos, block_mat, ray, t):\n",
    "    # DEFINE LIGHTS HERE AS CONSTANTS\n",
    "\n",
    "    scaled_ray = scale(ray, t[0])\n",
    "    newOrigin = add(e, scaled_ray)\n",
    "    normal = sub(newOrigin, block_pos)\n",
    "    normal_dot = dot(normal, normal)\n",
    "\n",
    "    if equals(normal_dot, float(0)):\n",
    "        return (0, 0, 0)\n",
    "    \n",
    "    normal = normalize(normal)\n",
    "\n",
    "    r = 0.0\n",
    "    g = 0.0\n",
    "    b = 0.0\n",
    "    for i in range(len(lights_pos)):\n",
    "        light_pos = lights_pos[i]\n",
    "        light_intense = lights_intense[i]\n",
    "        dist = sub(light_pos, newOrigin)\n",
    "\n",
    "        normal_dist_dot = dot(normal, dist)\n",
    "        if less_than_equal(normal_dist_dot, 0.0):\n",
    "            continue\n",
    "        \n",
    "        rayDir = normalize(dist)\n",
    "\n",
    "        lambert = dot(rayDir, normal)\n",
    "\n",
    "        light_intense_mat_mult_x = light_intense[0] * block_mat[0]\n",
    "        light_intense_mat_mult_y = light_intense[1] * block_mat[1]\n",
    "        light_intense_mat_mult_z = light_intense[2] * block_mat[2]\n",
    "        lambert_scale_x = light_intense_mat_mult_x * lambert\n",
    "        lambert_scale_y = light_intense_mat_mult_y * lambert\n",
    "        lambert_scale_z = light_intense_mat_mult_z * lambert\n",
    "        r += lambert_scale_x\n",
    "        g += lambert_scale_y\n",
    "        b += lambert_scale_z\n",
    "\n",
    "    return [r, g, b]\n",
    "\n",
    "def set_pixel_color(block_pos, block_mat, ray, x, y, t):\n",
    "    rgb = get_pixel_color(block_pos, block_mat, ray, t)\n",
    "    rgb_out = [0, 0, 0]\n",
    "    for i in range(3):\n",
    "        rgb_lt = less_than(rgb[i], 1) # r < 1 ? r : 1\n",
    "        rgb_mult = 255.0 * (rgb[i] if rgb_lt else 1.0)\n",
    "        rgb_out[i] = int(rgb_mult)\n",
    "    # verilog: set this in a buffer\n",
    "    img.putpixel((x, y), tuple(rgb_out))\n",
    "\n",
    "# print(get_pixel_color((1800, 1800, 200), (1, 0, 0, 0.5), eye_to_pixel(w/2, h/2), t))"
   ]
  },
  {
   "cell_type": "code",
   "execution_count": 300,
   "metadata": {},
   "outputs": [],
   "source": [
    "def render_frame():\n",
    "    for y in range(h):\n",
    "        for x in range(w):\n",
    "            ray = eye_to_pixel(x, y)\n",
    "            t = [float(1000000000)]\n",
    "\n",
    "            block = -1\n",
    "\n",
    "            for i in range(len(blocks_pos)):\n",
    "                if does_ray_block_intersect(ray, blocks_pos[i], t):\n",
    "                    block = i\n",
    "                    break\n",
    "            \n",
    "            if block == -1:\n",
    "                img.putpixel((x, y), (0, 0, 0))\n",
    "                continue\n",
    "\n",
    "            set_pixel_color(blocks_pos[block], blocks_mat[block], ray, x, y, t) # put into a buffer, output from the buffer"
   ]
  },
  {
   "cell_type": "code",
   "execution_count": 301,
   "metadata": {},
   "outputs": [
    {
     "data": {
      "image/png": "[encoded data removed]",
      "text/plain": [
       "<PIL.Image.Image image mode=RGB size=1024x768 at 0x7F586F0791F0>"
      ]
     },
     "metadata": {},
     "output_type": "display_data"
    }
   ],
   "source": [
    "render_frame()\n",
    "display_image()"
   ]
  },
  {
   "cell_type": "code",
   "execution_count": 302,
   "metadata": {},
   "outputs": [],
   "source": [
    "do_random = False\n",
    "\n",
    "if do_random:\n",
    "    import random\n",
    "    # blocks_pos = [(1800, 1800, 700)]\n",
    "    # blocks_mat = [(1, 0, 0, 0.7)]\n",
    "    # for j in range(random.randint(5, 20)):\n",
    "    #     if random.randint(0, 1) == 0:\n",
    "    #         blocks_pos.append((1800 + random.randint(-w, w), 1800 + random.randint(-h, h), blocks_pos[-1][2] + 32))\n",
    "    #         if random.randint(0, 1) == 0:\n",
    "    #             blocks_mat.append((1, 0, 0, 1))\n",
    "    #         else:\n",
    "    #             blocks_mat.append((0, 0, 1, 1))\n",
    "\n",
    "    for i in range(10):\n",
    "        render_frame()\n",
    "        display_image()\n",
    "        \n",
    "        for j in range(len(blocks_pos)):\n",
    "            # blocks_pos[j] = (blocks_pos[j][0] + random.randint(-16, 16), blocks_pos[j][1] + random.randint(-16, 16), blocks_pos[j][2] - 50)\n",
    "            blocks_pos[j] = (blocks_pos[j][0] + 0, blocks_pos[j][1] + 0, blocks_pos[j][2] - 50)"
   ]
  }
 ],
 "metadata": {
  "kernelspec": {
   "display_name": "Python 3.8.10 64-bit",
   "language": "python",
   "name": "python3"
  },
  "language_info": {
   "codemirror_mode": {
    "name": "ipython",
    "version": 3
   },
   "file_extension": ".py",
   "mimetype": "text/x-python",
   "name": "python",
   "nbconvert_exporter": "python",
   "pygments_lexer": "ipython3",
   "version": "3.8.10"
  },
  "orig_nbformat": 4,
  "vscode": {
   "interpreter": {
    "hash": "5b3ded1ccb95c1d9bd405e7b823d9e85424cde40fbb5985eb47e999ef50e15b4"
   }
  }
 },
 "nbformat": 4,
 "nbformat_minor": 2
}
