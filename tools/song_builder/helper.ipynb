{
 "cells": [
  {
   "cell_type": "code",
   "execution_count": 6,
   "metadata": {},
   "outputs": [
    {
     "name": "stdout",
     "output_type": "stream",
     "text": [
      "2000 2000 100 B D\n",
      "2050 2050 300 R R\n",
      "2100 2100 500 B D\n",
      "2020 2050 700 R L\n",
      "2200 2200 720 B U\n",
      "2000 2000 740 B U\n",
      "2200 2200 760 R R\n",
      "1900 2000 780 B D\n",
      "2000 2150 800 R L\n",
      "2000 2200 900 B U\n",
      "2000 2000 1000 B U\n",
      "2000 2050 1100 R R\n",
      "2000 2100 1200 B D\n",
      "2000 2150 1300 R L\n",
      "2000 2200 1600 B U\n"
     ]
    }
   ],
   "source": [
    "lines = \"\"\"\n",
    "200 200 100 B D\n",
    "250 250 300 R R\n",
    "300 300 500 B D\n",
    "220 250 700 R L\n",
    "400 400 720 B U\n",
    "200 200 740 B U\n",
    "400 400 760 R R\n",
    "100 200 780 B D\n",
    "200 350 800 R L\n",
    "200 400 900 B U\n",
    "200 200 1000 B U\n",
    "200 250 1100 R R\n",
    "200 300 1200 B D\n",
    "200 350 1300 R L\n",
    "200 400 1600 B U\n",
    "\"\"\"\n",
    "\n",
    "for line in lines.split(\"\\n\")[1:-1]:\n",
    "    s = line.split(\" \")\n",
    "    s[0] = str(int(s[0]) + 1800)\n",
    "    s[1] = str(int(s[1]) + 1800)\n",
    "\n",
    "    print(\" \".join(s))"
   ]
  }
 ],
 "metadata": {
  "kernelspec": {
   "display_name": "Python 3.8.10 64-bit",
   "language": "python",
   "name": "python3"
  },
  "language_info": {
   "codemirror_mode": {
    "name": "ipython",
    "version": 3
   },
   "file_extension": ".py",
   "mimetype": "text/x-python",
   "name": "python",
   "nbconvert_exporter": "python",
   "pygments_lexer": "ipython3",
   "version": "3.8.10"
  },
  "orig_nbformat": 4,
  "vscode": {
   "interpreter": {
    "hash": "916dbcbb3f70747c44a77c7bcd40155683ae19c65e1c03b4aa3499c5328201f1"
   }
  }
 },
 "nbformat": 4,
 "nbformat_minor": 2
}
